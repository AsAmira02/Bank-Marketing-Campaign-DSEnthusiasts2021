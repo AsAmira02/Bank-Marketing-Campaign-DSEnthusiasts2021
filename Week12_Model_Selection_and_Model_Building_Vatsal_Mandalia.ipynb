{
 "cells": [
  {
   "cell_type": "markdown",
   "metadata": {},
   "source": [
    "<h2><b>Data Science Project: Bank Marketing (Campaign)\n",
    "    Week 12</b></h2>\n",
    "\n",
    "<b>Team Member's Details:</b>\n",
    "Group name - Data Science Enthusiasts\n",
    "\n",
    "<b>MEMBER 1</b> - Amira Asta\n",
    "\n",
    "<b>EMAIL ID</b> - amira.asta02@gmail.com \n",
    "\n",
    "<b>COUNTRY</b> - Tunisia\n",
    "\n",
    "<b>COLLEGE/COMPANY</b> - Afrikanda \n",
    "\n",
    "<b>SPECIALIZATION</b> - Data Science\n",
    "\n",
    "\n",
    "<b>MEMBER 2</b> - Vatsal Vinesh Mandalia\n",
    "\n",
    "<b>EMAIL ID</b> - vatsalvm10@outlook.com\n",
    "\n",
    "<b>COUNTRY</b> - Oman\n",
    "\n",
    "<b>COLLEGE/COMPANY</b> - Graduated\n",
    "\n",
    "<b>SPECIALIZATION</b> - Data Science"
   ]
  },
  {
   "cell_type": "code",
   "execution_count": 1,
   "metadata": {},
   "outputs": [],
   "source": [
    "import numpy as np\n",
    "import matplotlib.pyplot as plt\n",
    "import pandas as pd\n",
    "import seaborn as sns\n",
    "from sklearn.model_selection import train_test_split\n",
    "from sklearn.linear_model import LogisticRegression\n",
    "from sklearn.preprocessing import LabelEncoder\n",
    "from sklearn.metrics import confusion_matrix, classification_report"
   ]
  },
  {
   "cell_type": "code",
   "execution_count": 2,
   "metadata": {},
   "outputs": [],
   "source": [
    "# bank-additional data\n",
    "bk_add_full = pd.read_csv('~/Downloads/bank-additional/bank-additional-full.csv', delimiter = ';')\n",
    "bk_add = pd.read_csv('~/Downloads/bank-additional/bank-additional.csv', delimiter = ';')\n",
    "\n",
    "# bank-full data\n",
    "bank_full = pd.read_csv('~/Downloads/bank/bank-full.csv', delimiter = ';')\n",
    "bank = pd.read_csv('~/Downloads/bank/bank.csv', delimiter = ';')"
   ]
  },
  {
   "cell_type": "code",
   "execution_count": 3,
   "metadata": {},
   "outputs": [
    {
     "name": "stdout",
     "output_type": "stream",
     "text": [
      "bank-additional-full data:\n",
      "    age        job  marital    education  default housing loan    contact  \\\n",
      "0   56  housemaid  married     basic.4y       no      no   no  telephone   \n",
      "1   57   services  married  high.school  unknown      no   no  telephone   \n",
      "2   37   services  married  high.school       no     yes   no  telephone   \n",
      "3   40     admin.  married     basic.6y       no      no   no  telephone   \n",
      "4   56   services  married  high.school       no      no  yes  telephone   \n",
      "\n",
      "  month day_of_week ...  campaign  pdays  previous     poutcome emp.var.rate  \\\n",
      "0   may         mon ...         1    999         0  nonexistent          1.1   \n",
      "1   may         mon ...         1    999         0  nonexistent          1.1   \n",
      "2   may         mon ...         1    999         0  nonexistent          1.1   \n",
      "3   may         mon ...         1    999         0  nonexistent          1.1   \n",
      "4   may         mon ...         1    999         0  nonexistent          1.1   \n",
      "\n",
      "   cons.price.idx  cons.conf.idx  euribor3m  nr.employed   y  \n",
      "0          93.994          -36.4      4.857       5191.0  no  \n",
      "1          93.994          -36.4      4.857       5191.0  no  \n",
      "2          93.994          -36.4      4.857       5191.0  no  \n",
      "3          93.994          -36.4      4.857       5191.0  no  \n",
      "4          93.994          -36.4      4.857       5191.0  no  \n",
      "\n",
      "[5 rows x 21 columns]\n",
      "<class 'pandas.core.frame.DataFrame'>\n",
      "RangeIndex: 41188 entries, 0 to 41187\n",
      "Data columns (total 21 columns):\n",
      "age               41188 non-null int64\n",
      "job               41188 non-null object\n",
      "marital           41188 non-null object\n",
      "education         41188 non-null object\n",
      "default           41188 non-null object\n",
      "housing           41188 non-null object\n",
      "loan              41188 non-null object\n",
      "contact           41188 non-null object\n",
      "month             41188 non-null object\n",
      "day_of_week       41188 non-null object\n",
      "duration          41188 non-null int64\n",
      "campaign          41188 non-null int64\n",
      "pdays             41188 non-null int64\n",
      "previous          41188 non-null int64\n",
      "poutcome          41188 non-null object\n",
      "emp.var.rate      41188 non-null float64\n",
      "cons.price.idx    41188 non-null float64\n",
      "cons.conf.idx     41188 non-null float64\n",
      "euribor3m         41188 non-null float64\n",
      "nr.employed       41188 non-null float64\n",
      "y                 41188 non-null object\n",
      "dtypes: float64(5), int64(5), object(11)\n",
      "memory usage: 6.6+ MB\n",
      "None\n",
      "\n",
      "\n",
      "bank-additional data:\n",
      "    age          job  marital          education default  housing     loan  \\\n",
      "0   30  blue-collar  married           basic.9y      no      yes       no   \n",
      "1   39     services   single        high.school      no       no       no   \n",
      "2   25     services  married        high.school      no      yes       no   \n",
      "3   38     services  married           basic.9y      no  unknown  unknown   \n",
      "4   47       admin.  married  university.degree      no      yes       no   \n",
      "\n",
      "     contact month day_of_week ...  campaign  pdays  previous     poutcome  \\\n",
      "0   cellular   may         fri ...         2    999         0  nonexistent   \n",
      "1  telephone   may         fri ...         4    999         0  nonexistent   \n",
      "2  telephone   jun         wed ...         1    999         0  nonexistent   \n",
      "3  telephone   jun         fri ...         3    999         0  nonexistent   \n",
      "4   cellular   nov         mon ...         1    999         0  nonexistent   \n",
      "\n",
      "  emp.var.rate  cons.price.idx  cons.conf.idx  euribor3m  nr.employed   y  \n",
      "0         -1.8          92.893          -46.2      1.313       5099.1  no  \n",
      "1          1.1          93.994          -36.4      4.855       5191.0  no  \n",
      "2          1.4          94.465          -41.8      4.962       5228.1  no  \n",
      "3          1.4          94.465          -41.8      4.959       5228.1  no  \n",
      "4         -0.1          93.200          -42.0      4.191       5195.8  no  \n",
      "\n",
      "[5 rows x 21 columns]\n",
      "<class 'pandas.core.frame.DataFrame'>\n",
      "RangeIndex: 4119 entries, 0 to 4118\n",
      "Data columns (total 21 columns):\n",
      "age               4119 non-null int64\n",
      "job               4119 non-null object\n",
      "marital           4119 non-null object\n",
      "education         4119 non-null object\n",
      "default           4119 non-null object\n",
      "housing           4119 non-null object\n",
      "loan              4119 non-null object\n",
      "contact           4119 non-null object\n",
      "month             4119 non-null object\n",
      "day_of_week       4119 non-null object\n",
      "duration          4119 non-null int64\n",
      "campaign          4119 non-null int64\n",
      "pdays             4119 non-null int64\n",
      "previous          4119 non-null int64\n",
      "poutcome          4119 non-null object\n",
      "emp.var.rate      4119 non-null float64\n",
      "cons.price.idx    4119 non-null float64\n",
      "cons.conf.idx     4119 non-null float64\n",
      "euribor3m         4119 non-null float64\n",
      "nr.employed       4119 non-null float64\n",
      "y                 4119 non-null object\n",
      "dtypes: float64(5), int64(5), object(11)\n",
      "memory usage: 675.9+ KB\n",
      "None\n"
     ]
    }
   ],
   "source": [
    "# bank-additional-full and bank-additional data\n",
    "print('bank-additional-full data:\\n', bk_add_full.head())\n",
    "print(bk_add_full.info())\n",
    "print('\\n')\n",
    "print('bank-additional data:\\n', bk_add.head())\n",
    "print(bk_add.info())\n",
    "# print('-------')\n",
    "# print('\\n')\n",
    "# print('bank-full data:\\n', bank_full.head())\n",
    "# print(bank_full.info())\n",
    "# print('\\n')\n",
    "# print('bank data:\\n', bank.head())\n",
    "# print(bank.info())"
   ]
  },
  {
   "cell_type": "code",
   "execution_count": 4,
   "metadata": {},
   "outputs": [
    {
     "name": "stdout",
     "output_type": "stream",
     "text": [
      "12\n",
      "There are 12 rows whose duplicates are also present in bank-additional-full data\n",
      "0\n",
      "No duplicate rows in bank-additional data\n",
      "0\n",
      "No duplicate rows in bank-full data\n",
      "0\n",
      "No duplicate rows in bank data\n"
     ]
    }
   ],
   "source": [
    "# To check for duplicate rows\n",
    "# bank-additional-full and bank-additional data\n",
    "print(bk_add_full.duplicated().sum())\n",
    "print('There are 12 rows whose duplicates are also present in bank-additional-full data')\n",
    "bk_add_full.drop_duplicates(keep = 'first', inplace = True)\n",
    "\n",
    "print(bk_add.duplicated().sum())\n",
    "print('No duplicate rows in bank-additional data')\n",
    "\n",
    "# bank-full and bank data\n",
    "print(bank_full.duplicated(keep = False).sum())\n",
    "print('No duplicate rows in bank-full data')\n",
    "print(bank.duplicated(keep = False).sum())\n",
    "print('No duplicate rows in bank data')"
   ]
  },
  {
   "cell_type": "code",
   "execution_count": 5,
   "metadata": {},
   "outputs": [],
   "source": [
    "# Finally, the 'duration' feature is dropped from the datasets.\n",
    "# This is due to description of the feature given in the Bank Marketing (Campaign) page\n",
    "bk_add_full.drop('duration', axis = 1, inplace = True)\n",
    "bk_add.drop('duration', axis = 1, inplace = True)  "
   ]
  },
  {
   "cell_type": "code",
   "execution_count": 6,
   "metadata": {},
   "outputs": [],
   "source": [
    "# Model building\n",
    "bk_add_full_copy = bk_add_full\n",
    "# Target and Feature set\n",
    "y = bk_add_full[['y']]\n",
    "X = bk_add_full.drop('y', axis = 1, inplace = False)"
   ]
  },
  {
   "cell_type": "code",
   "execution_count": 7,
   "metadata": {},
   "outputs": [
    {
     "name": "stdout",
     "output_type": "stream",
     "text": [
      "['job', 'marital', 'education', 'default', 'housing', 'loan', 'contact', 'month', 'day_of_week', 'poutcome']\n"
     ]
    }
   ],
   "source": [
    "# Storing the numeric and categorical variable names\n",
    "numeric_types = list(bk_add_full.select_dtypes(include = ['int64', 'float64']).columns)\n",
    "# print(numeric_types)\n",
    "categorical_types = list(X.select_dtypes(include = ['object']).columns)\n",
    "print(categorical_types)"
   ]
  },
  {
   "cell_type": "code",
   "execution_count": 8,
   "metadata": {},
   "outputs": [],
   "source": [
    "# Label Encoder\n",
    "le = LabelEncoder()\n",
    "for feature in categorical_types:\n",
    "    X[feature] = le.fit_transform(X[feature])"
   ]
  },
  {
   "cell_type": "code",
   "execution_count": 15,
   "metadata": {},
   "outputs": [
    {
     "name": "stdout",
     "output_type": "stream",
     "text": [
      "[0 0 0 ... 0 1 0]\n",
      "[0 0 0 ... 0 1 0]\n"
     ]
    }
   ],
   "source": [
    "le_y = LabelEncoder()\n",
    "y = le.fit_transform(bk_add_full_copy['y'])\n",
    "print(y)"
   ]
  },
  {
   "cell_type": "code",
   "execution_count": 16,
   "metadata": {},
   "outputs": [
    {
     "name": "stderr",
     "output_type": "stream",
     "text": [
      "/Users/vatsalmandalia/anaconda3/lib/python3.7/site-packages/sklearn/linear_model/logistic.py:433: FutureWarning: Default solver will be changed to 'lbfgs' in 0.22. Specify a solver to silence this warning.\n",
      "  FutureWarning)\n"
     ]
    },
    {
     "data": {
      "text/plain": [
       "LogisticRegression(C=1.0, class_weight=None, dual=False, fit_intercept=True,\n",
       "          intercept_scaling=1, max_iter=100, multi_class='warn',\n",
       "          n_jobs=None, penalty='l2', random_state=None, solver='warn',\n",
       "          tol=0.0001, verbose=0, warm_start=False)"
      ]
     },
     "execution_count": 16,
     "metadata": {},
     "output_type": "execute_result"
    }
   ],
   "source": [
    "# Train and test split\n",
    "X_train, X_test, y_train, y_test = train_test_split(X, y, test_size = 0.1, random_state = 100)\n",
    "\n",
    "# Initiating the regressor\n",
    "logreg = LogisticRegression()\n",
    "\n",
    "# Fitting the model on the training data\n",
    "logreg.fit(X_train, y_train)"
   ]
  },
  {
   "cell_type": "code",
   "execution_count": 19,
   "metadata": {},
   "outputs": [
    {
     "name": "stdout",
     "output_type": "stream",
     "text": [
      "              precision    recall  f1-score   support\n",
      "\n",
      "           0       0.91      0.99      0.95      3658\n",
      "           1       0.71      0.20      0.31       460\n",
      "\n",
      "   micro avg       0.90      0.90      0.90      4118\n",
      "   macro avg       0.81      0.60      0.63      4118\n",
      "weighted avg       0.89      0.90      0.88      4118\n",
      "\n",
      "ROC_AUC score =  0.5958928613877862\n"
     ]
    },
    {
     "data": {
      "image/png": "[encoded data removed]",
      "text/plain": [
       "<Figure size 432x288 with 1 Axes>"
      ]
     },
     "metadata": {
      "needs_background": "light"
     },
     "output_type": "display_data"
    }
   ],
   "source": [
    "# Prediction from the model\n",
    "y_pred = logreg.predict(X_test)\n",
    "log_accuracy = logreg.score(X_test, y_test)\n",
    "\n",
    "confusion_matrix_y = confusion_matrix(y_test, y_pred)\n",
    "print(classification_report(y_test, y_pred))\n",
    "\n",
    "# ROC_AUC curve\n",
    "from sklearn.metrics import roc_auc_score\n",
    "from sklearn.metrics import roc_curve\n",
    "\n",
    "log_roc_auc = roc_auc_score(y_test, logreg.predict(X_test))\n",
    "print('ROC_AUC score = ', log_roc_auc)\n",
    "\n",
    "fpr, tpr, thresholds = roc_curve(y_test, logreg.predict_proba(X_test)[:,1])\n",
    "\n",
    "plt.plot(fpr, tpr, label='Logistic Regression (area = %0.2f)' % log_roc_auc)\n",
    "plt.plot([0, 1], [0, 1],'r--')\n",
    "plt.xlim([0.0, 1.0])\n",
    "plt.ylim([0.0, 1.05])\n",
    "plt.xlabel('False Positive Rate')\n",
    "plt.ylabel('True Positive Rate')\n",
    "plt.title('ROC-AUC curve')\n",
    "plt.legend(loc=\"lower right\")\n",
    "# plt.savefig('Log_ROC')\n",
    "plt.show()"
   ]
  },
  {
   "cell_type": "code",
   "execution_count": null,
   "metadata": {},
   "outputs": [],
   "source": []
  }
 ],
 "metadata": {
  "kernelspec": {
   "display_name": "Python 3",
   "language": "python",
   "name": "python3"
  },
  "language_info": {
   "codemirror_mode": {
    "name": "ipython",
    "version": 3
   },
   "file_extension": ".py",
   "mimetype": "text/x-python",
   "name": "python",
   "nbconvert_exporter": "python",
   "pygments_lexer": "ipython3",
   "version": "3.7.1"
  }
 },
 "nbformat": 4,
 "nbformat_minor": 2
}
